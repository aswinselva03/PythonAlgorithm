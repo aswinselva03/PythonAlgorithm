{
 "cells": [
  {
   "cell_type": "code",
   "execution_count": 49,
   "id": "fd2e1a77",
   "metadata": {},
   "outputs": [],
   "source": [
    "class Node:\n",
    "    def __init__(self, value):\n",
    "        self.value = value\n",
    "        self.left = None\n",
    "        self.right = None\n",
    "        \n",
    "class BinarySearchTree:\n",
    "    \n",
    "    def __init__(self,value):\n",
    "        new_node = Node(value)\n",
    "        self.root = new_node\n",
    "        \n",
    "    def insert(self,value):\n",
    "        new_node = Node(value)\n",
    "        if self.root is None:\n",
    "            self.root = new_node\n",
    "            return True\n",
    "        temp = self.root\n",
    "        while True:\n",
    "            if new_node.value == temp.value:\n",
    "                return False\n",
    "            if new_node.value < temp.value:\n",
    "                if temp.left is None:\n",
    "                    temp.left = new_node\n",
    "                    return True\n",
    "                temp = temp.left\n",
    "            else:\n",
    "                if temp.right is None:\n",
    "                    temp.right = new_node\n",
    "                    return True\n",
    "                temp = temp.right\n",
    "                \n",
    "    def contains(self,value):\n",
    "        temp = self.root\n",
    "        while temp:\n",
    "            if value == temp.value:\n",
    "                return True\n",
    "            if value < temp.value:\n",
    "                temp = temp.left\n",
    "            else:\n",
    "                temp = temp.right\n",
    "        return False\n",
    "    \n",
    "    def r_contains(self,value):\n",
    "        return self.__r_contains(self.root, value)\n",
    "    \n",
    "    def __r_contains(self, current_node, value):\n",
    "        if current_node is None:\n",
    "            return False\n",
    "        if current_node.value == value:\n",
    "            return True\n",
    "        if value < current_node.value:\n",
    "            return self.__r_contains(current_node.left, value)\n",
    "        if value > current_node.value:\n",
    "            return self.__r_contains(current_node.right, value)\n",
    "        \n",
    "    def __r_insert(self,current_node, value):\n",
    "        if current_node is None:\n",
    "            return Node(value)\n",
    "        if value < current_node.value:\n",
    "            current_node.left = self.__r_insert(current_node.left, value)\n",
    "        if value > current_node.value:\n",
    "            current_node.right = self.__r_insert(current_node.right, value)\n",
    "        return current_node\n",
    "    \n",
    "    def r_insert(self, value):\n",
    "        if self.root is None:\n",
    "            self.root = Node(value)\n",
    "        self.__r_insert(self.root, value)\n",
    "    \n",
    "    def min_value(self, current_node):\n",
    "        while current_node.left is not None:\n",
    "            current_node = current_node.left\n",
    "        return current_node.value\n",
    "    \n",
    "    def __delete(self, current_node, value):\n",
    "        if current_node is None:\n",
    "            return None\n",
    "        if value < current_node.value:\n",
    "            current_node.left = self.__delete(current_node.left, value)\n",
    "        elif value > current_node.value:\n",
    "            current_node.right = self.__delete(current_node.right, value)\n",
    "        else:\n",
    "            if current_node.left is None and current_node.right is None:\n",
    "                return None\n",
    "            elif current_node.left is None:\n",
    "                current_node = current_node.right\n",
    "            elif current_node.right is None:\n",
    "                current_node = current_node.left\n",
    "            else:\n",
    "                sub_tree_min = self.min_value(current_node)\n",
    "                current_node.value = sub_tree_min\n",
    "                current_node.right = self.__delete(current_node.right, sub_tree_min)\n",
    "        return current_node\n",
    "    \n",
    "    def delete(self,value):\n",
    "        self.__delete(self.root, value)\n",
    "        \n",
    "        \n",
    "    \n",
    "#     def __str__(self):\n",
    "#         if self.root is None:\n",
    "#             return \"root -> None\"\n",
    "#         temp = self.root\n",
    "#         tree = \"\"\n",
    "#         if temp.left and temp.right:\n",
    "#             tree += \"   \"+str(temp.value) + \"\\n /\" + \"   \" + \"\\\\\\n\"\n",
    "#             tree += str(temp.left.value) + \"     \" + str(temp.right.value)\n",
    "#         return tree\n",
    "    \n",
    "    def __str__(self):\n",
    "        return str(self._print_tree(self.root, \"\", True))\n",
    "\n",
    "    def _print_tree(self, current_node, prefix, is_left):\n",
    "        if current_node is not None:\n",
    "                print(prefix + (\"|-- \" if is_left else \"`-- \") + str(current_node.value))\n",
    "                self._print_tree(current_node.left, prefix + (\"|   \" if is_left else \"    \"), True)\n",
    "                self._print_tree(current_node.right, prefix + (\"|   \" if not is_left else \"    \"), False)\n",
    "                "
   ]
  },
  {
   "cell_type": "code",
   "execution_count": 50,
   "id": "59c48480",
   "metadata": {},
   "outputs": [],
   "source": [
    "bst = BinarySearchTree(5)"
   ]
  },
  {
   "cell_type": "code",
   "execution_count": 51,
   "id": "3cd1ebf3",
   "metadata": {},
   "outputs": [],
   "source": [
    "bst.r_insert(7)"
   ]
  },
  {
   "cell_type": "code",
   "execution_count": 52,
   "id": "6e81f506",
   "metadata": {},
   "outputs": [],
   "source": [
    "bst.r_insert(3)"
   ]
  },
  {
   "cell_type": "code",
   "execution_count": 53,
   "id": "80b7e20d",
   "metadata": {},
   "outputs": [],
   "source": [
    "bst.r_insert(10)"
   ]
  },
  {
   "cell_type": "code",
   "execution_count": 54,
   "id": "58515fa3",
   "metadata": {},
   "outputs": [
    {
     "name": "stdout",
     "output_type": "stream",
     "text": [
      "|-- 5\n",
      "|   |-- 3\n",
      "    `-- 7\n",
      "    |   `-- 10\n",
      "None\n"
     ]
    }
   ],
   "source": [
    "print(bst)"
   ]
  },
  {
   "cell_type": "code",
   "execution_count": 55,
   "id": "e8383b17",
   "metadata": {},
   "outputs": [],
   "source": [
    "bst.delete(10)"
   ]
  },
  {
   "cell_type": "code",
   "execution_count": 56,
   "id": "078de417",
   "metadata": {},
   "outputs": [
    {
     "name": "stdout",
     "output_type": "stream",
     "text": [
      "|-- 5\n",
      "|   |-- 3\n",
      "    `-- 7\n",
      "None\n"
     ]
    }
   ],
   "source": [
    "print(bst)"
   ]
  },
  {
   "cell_type": "code",
   "execution_count": 24,
   "id": "e877f33a",
   "metadata": {},
   "outputs": [
    {
     "data": {
      "text/plain": [
       "True"
      ]
     },
     "execution_count": 24,
     "metadata": {},
     "output_type": "execute_result"
    }
   ],
   "source": [
    "bst.insert(2)"
   ]
  },
  {
   "cell_type": "code",
   "execution_count": 25,
   "id": "1a9843b6",
   "metadata": {},
   "outputs": [
    {
     "data": {
      "text/plain": [
       "True"
      ]
     },
     "execution_count": 25,
     "metadata": {},
     "output_type": "execute_result"
    }
   ],
   "source": [
    "bst.insert(7)"
   ]
  },
  {
   "cell_type": "code",
   "execution_count": 26,
   "id": "c0e56ddf",
   "metadata": {},
   "outputs": [
    {
     "data": {
      "text/plain": [
       "True"
      ]
     },
     "execution_count": 26,
     "metadata": {},
     "output_type": "execute_result"
    }
   ],
   "source": [
    "bst.insert(9)"
   ]
  },
  {
   "cell_type": "code",
   "execution_count": 27,
   "id": "844a9b2f",
   "metadata": {},
   "outputs": [
    {
     "data": {
      "text/plain": [
       "True"
      ]
     },
     "execution_count": 27,
     "metadata": {},
     "output_type": "execute_result"
    }
   ],
   "source": [
    "bst.insert(6)"
   ]
  },
  {
   "cell_type": "code",
   "execution_count": 28,
   "id": "50cdb394",
   "metadata": {},
   "outputs": [
    {
     "data": {
      "text/plain": [
       "True"
      ]
     },
     "execution_count": 28,
     "metadata": {},
     "output_type": "execute_result"
    }
   ],
   "source": [
    "bst.insert(1)"
   ]
  },
  {
   "cell_type": "code",
   "execution_count": 38,
   "id": "67eada31",
   "metadata": {},
   "outputs": [
    {
     "name": "stdout",
     "output_type": "stream",
     "text": [
      "|-- 5\n",
      "    `-- 7\n",
      "None\n"
     ]
    }
   ],
   "source": [
    "print(bst)"
   ]
  },
  {
   "cell_type": "code",
   "execution_count": 30,
   "id": "7fd14966",
   "metadata": {},
   "outputs": [
    {
     "data": {
      "text/plain": [
       "True"
      ]
     },
     "execution_count": 30,
     "metadata": {},
     "output_type": "execute_result"
    }
   ],
   "source": [
    "bst.contains(7)"
   ]
  },
  {
   "cell_type": "code",
   "execution_count": 31,
   "id": "0c854e9b",
   "metadata": {},
   "outputs": [
    {
     "data": {
      "text/plain": [
       "True"
      ]
     },
     "execution_count": 31,
     "metadata": {},
     "output_type": "execute_result"
    }
   ],
   "source": [
    "bst.contains(9)"
   ]
  },
  {
   "cell_type": "code",
   "execution_count": 32,
   "id": "bf15f68b",
   "metadata": {},
   "outputs": [
    {
     "data": {
      "text/plain": [
       "True"
      ]
     },
     "execution_count": 32,
     "metadata": {},
     "output_type": "execute_result"
    }
   ],
   "source": [
    "bst.r_contains(7)"
   ]
  },
  {
   "cell_type": "code",
   "execution_count": 33,
   "id": "64877b8a",
   "metadata": {},
   "outputs": [
    {
     "data": {
      "text/plain": [
       "False"
      ]
     },
     "execution_count": 33,
     "metadata": {},
     "output_type": "execute_result"
    }
   ],
   "source": [
    "bst.r_contains(10)"
   ]
  },
  {
   "cell_type": "code",
   "execution_count": null,
   "id": "e1e2432c",
   "metadata": {},
   "outputs": [],
   "source": []
  }
 ],
 "metadata": {
  "kernelspec": {
   "display_name": "Python 3",
   "language": "python",
   "name": "python3"
  },
  "language_info": {
   "codemirror_mode": {
    "name": "ipython",
    "version": 3
   },
   "file_extension": ".py",
   "mimetype": "text/x-python",
   "name": "python",
   "nbconvert_exporter": "python",
   "pygments_lexer": "ipython3",
   "version": "3.8.9"
  }
 },
 "nbformat": 4,
 "nbformat_minor": 5
}
