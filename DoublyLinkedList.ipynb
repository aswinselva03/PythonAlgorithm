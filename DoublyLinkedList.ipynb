{
 "cells": [
  {
   "cell_type": "markdown",
   "metadata": {},
   "source": [
    "# Doubly Linked List"
   ]
  },
  {
   "cell_type": "code",
   "execution_count": 7,
   "metadata": {},
   "outputs": [
    {
     "name": "stdout",
     "output_type": "stream",
     "text": [
      "None<-5<=>2->None\n"
     ]
    }
   ],
   "source": [
    "from email.errors import NonPrintableDefect\n",
    "\n",
    "\n",
    "class Node:\n",
    "    \n",
    "    def __init__(self,value):\n",
    "        self.value = value\n",
    "        self.next = None\n",
    "        self.prev = None\n",
    "    \n",
    "    def __str__(self):\n",
    "        return str(self.value)\n",
    "    \n",
    "    def __repr__(self):\n",
    "        return str(self.value)\n",
    "\n",
    "\n",
    "class DoublyLinkedList:\n",
    "\n",
    "    def __init__(self,value):\n",
    "        new_node = Node(value)\n",
    "        self.head = new_node\n",
    "        self.tail = new_node\n",
    "        self.length = 1\n",
    "\n",
    "    def append(self,value):\n",
    "        new_node = Node(value)\n",
    "        if self.length == 0:\n",
    "            self.head = new_node\n",
    "            self.tail = new_node\n",
    "        else:\n",
    "            self.tail.next = new_node\n",
    "            new_node.prev = self.tail\n",
    "            self.tail = new_node\n",
    "        self.length += 1\n",
    "        return True\n",
    "    \n",
    "    def pop(self):\n",
    "        if self.length == 0:\n",
    "            return None\n",
    "        temp = self.tail\n",
    "        if self.length == 1:\n",
    "            self.head = None\n",
    "            self.tail = None\n",
    "        else:\n",
    "            self.tail = temp.prev\n",
    "            self.tail.next = None\n",
    "            temp.prev = None\n",
    "        self.length -= 1\n",
    "        return temp\n",
    "    \n",
    "    def prepend(self,value):\n",
    "        new_node = Node(value)\n",
    "        if self.length == 0:\n",
    "            self.head = new_node\n",
    "            self.tail = new_node\n",
    "        else:\n",
    "            self.head.prev = new_node\n",
    "            new_node.next = self.head\n",
    "            self.head = new_node\n",
    "        self.length += 1\n",
    "        return True\n",
    "\n",
    "    def pop_first(self):\n",
    "        if self.length == 0:\n",
    "            return None\n",
    "        temp = self.head\n",
    "        if self.length == 1:\n",
    "            self.head = None\n",
    "            self.tail = None\n",
    "        else:\n",
    "            self.head = self.head.next\n",
    "            self.head.prev = None\n",
    "            temp.next = None\n",
    "        self.length -= 1\n",
    "        return temp\n",
    "\n",
    "    def get(self,index):\n",
    "        if index < 0 or index >= self.length:\n",
    "            return None\n",
    "        if index < self.length/2:\n",
    "            temp = self.head\n",
    "            for _ in range(index):\n",
    "                temp = temp.next\n",
    "        else:\n",
    "            temp = self.tail\n",
    "            for _ in range(self.length-1,index,-1):\n",
    "                temp = temp.prev\n",
    "        return temp\n",
    "\n",
    "    def set(self, index, value):\n",
    "        node = self.get(index)\n",
    "        if node:\n",
    "            node.value = value\n",
    "            return True\n",
    "        return False\n",
    "    \n",
    "    def insert(self, index, value):\n",
    "        if index < 0 or index > self.length:\n",
    "            return None\n",
    "        if index == 0:\n",
    "            return self.prepend(value)\n",
    "        if index == self.length:\n",
    "            return self.append(value)\n",
    "        new_node = Node(value)\n",
    "        before = self.get(index-1)\n",
    "        after = before.next\n",
    "        before.next = new_node\n",
    "        new_node.prev = before\n",
    "        new_node.next = after\n",
    "        after.prev = new_node\n",
    "        self.length += 1\n",
    "        return True\n",
    "\n",
    "    def remove(self, index):\n",
    "        if index < 0 or index >= self.length:\n",
    "            return None\n",
    "        if index == 0:\n",
    "            self.pop_first()\n",
    "        if index == self.length -1:\n",
    "            self.pop()\n",
    "        node = self.get(index)\n",
    "        node.prev.next = node.next\n",
    "        node.next.prev = node.prev\n",
    "        node.next = None\n",
    "        node.prev = None\n",
    "        self.length -= 1\n",
    "        return node\n",
    "\n",
    "\n",
    "\n",
    "    def __str__(self):\n",
    "        doubly_linked_list = \"None<-\"\n",
    "        temp = self.head\n",
    "        if temp is None:\n",
    "            return \"None\"\n",
    "        for _ in range(0, self.length+1):\n",
    "            doubly_linked_list += str(temp.value)\n",
    "            if temp.next is None:\n",
    "                doubly_linked_list += \"->None\"\n",
    "                return doubly_linked_list\n",
    "            doubly_linked_list += \"<=>\"\n",
    "            temp = temp.next\n",
    "        return doubly_linked_list\n",
    "\n",
    "dll = DoublyLinkedList(5)\n",
    "dll.append(2)\n",
    "dll.append(10)\n",
    "dll.pop()\n",
    "print(dll)"
   ]
  },
  {
   "cell_type": "code",
   "execution_count": 9,
   "metadata": {},
   "outputs": [
    {
     "name": "stdout",
     "output_type": "stream",
     "text": [
      "None<-2<=>1<=>5<=>2->None\n",
      "None<-1<=>5<=>2->None\n"
     ]
    }
   ],
   "source": [
    "dll.prepend(1)\n",
    "dll.prepend(2)\n",
    "print(dll)\n",
    "dll.pop_first()\n",
    "print(dll)"
   ]
  },
  {
   "cell_type": "code",
   "execution_count": 11,
   "metadata": {},
   "outputs": [
    {
     "name": "stdout",
     "output_type": "stream",
     "text": [
      "2\n",
      "None<-1<=>5<=>2->None\n",
      "None<-1<=>5<=>3->None\n"
     ]
    }
   ],
   "source": [
    "print(dll.get(2))\n",
    "print(dll)\n",
    "dll.set(2, 3)\n",
    "print(dll)"
   ]
  },
  {
   "cell_type": "code",
   "execution_count": 12,
   "metadata": {},
   "outputs": [
    {
     "name": "stdout",
     "output_type": "stream",
     "text": [
      "None<-1<=>5<=>6<=>3<=>10->None\n",
      "None<-1<=>5<=>3<=>10->None\n"
     ]
    }
   ],
   "source": [
    "dll.insert(3,10)\n",
    "dll.insert(2,6)\n",
    "print(dll)\n",
    "dll.remove(2)\n",
    "print(dll)"
   ]
  },
  {
   "cell_type": "code",
   "execution_count": null,
   "metadata": {},
   "outputs": [],
   "source": []
  }
 ],
 "metadata": {
  "kernelspec": {
   "display_name": "Python 3 (ipykernel)",
   "name": "python3"
  },
  "language_info": {
   "codemirror_mode": {
    "name": "ipython",
    "version": 3
   },
   "file_extension": ".py",
   "mimetype": "text/x-python",
   "name": "python",
   "nbconvert_exporter": "python",
   "pygments_lexer": "ipython3",
   "version": "3.8.2"
  },
  "orig_nbformat": 2
 },
 "nbformat": 4,
 "nbformat_minor": 2
}