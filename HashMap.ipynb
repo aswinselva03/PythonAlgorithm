{
 "cells": [
  {
   "cell_type": "code",
   "execution_count": 53,
   "id": "0343a6f3",
   "metadata": {},
   "outputs": [],
   "source": [
    "class HashMap():\n",
    "    def __init__(self, size = 7):\n",
    "        self.data_map = [None] * size\n",
    "    \n",
    "    \n",
    "    def __hash(self,key):\n",
    "        hash_value = 0\n",
    "        for letter in key:\n",
    "            hash_value = (hash_value + ord(letter)*23) % len(self.data_map)\n",
    "        return hash_value\n",
    "    \n",
    "    def set_item(self, key, value):\n",
    "        index = self.__hash(key)\n",
    "        if self.data_map[index] is None:\n",
    "            self.data_map[index] = []\n",
    "        else:\n",
    "            for i in range(len(self.data_map[index])):\n",
    "                if self.data_map[index][i][0] == key:\n",
    "                    self.data_map[index][i][1] = value\n",
    "                    return None\n",
    "        self.data_map[index].append([key,value])\n",
    "    \n",
    "    def get_item(self,key):\n",
    "        index = self.__hash(key)\n",
    "        if self.data_map[index] is not None:\n",
    "            for i in range(len(self.data_map[index])):\n",
    "                if self.data_map[index][i][0] == key:\n",
    "                    return self.data_map[index][i][1]\n",
    "        return None\n",
    "    \n",
    "    def keys(self):\n",
    "        all_keys = []\n",
    "        for i in range(len(self.data_map)):\n",
    "            if self.data_map[i] is not None:\n",
    "                for j in range(len(self.data_map[i])):\n",
    "                    all_keys.append(self.data_map[i][j][0])\n",
    "        return all_keys\n",
    "            \n",
    "    \n",
    "    def __str__(self):\n",
    "        hashmap = \"\"\n",
    "        for i in self.data_map:\n",
    "            hashmap += str(i)+\"\\n\"\n",
    "        return hashmap"
   ]
  },
  {
   "cell_type": "code",
   "execution_count": 54,
   "id": "3bd6aab5",
   "metadata": {},
   "outputs": [],
   "source": [
    "hm = HashMap()"
   ]
  },
  {
   "cell_type": "code",
   "execution_count": 55,
   "id": "f161e84d",
   "metadata": {},
   "outputs": [
    {
     "name": "stdout",
     "output_type": "stream",
     "text": [
      "None\n",
      "None\n",
      "None\n",
      "None\n",
      "None\n",
      "None\n",
      "None\n",
      "\n"
     ]
    }
   ],
   "source": [
    "print(hm)"
   ]
  },
  {
   "cell_type": "code",
   "execution_count": 56,
   "id": "f42fe931",
   "metadata": {},
   "outputs": [],
   "source": [
    "hm.set_item(\"hello\", \"world\")\n",
    "hm.set_item(\"hellooo\", \"world\")"
   ]
  },
  {
   "cell_type": "code",
   "execution_count": 57,
   "id": "78da6a16",
   "metadata": {},
   "outputs": [],
   "source": [
    "hm.set_item(\"hello\", \"duplicate\")"
   ]
  },
  {
   "cell_type": "code",
   "execution_count": 58,
   "id": "717c18dd",
   "metadata": {},
   "outputs": [
    {
     "name": "stdout",
     "output_type": "stream",
     "text": [
      "[['hello', 'duplicate']]\n",
      "None\n",
      "None\n",
      "[['hellooo', 'world']]\n",
      "None\n",
      "None\n",
      "None\n",
      "\n"
     ]
    }
   ],
   "source": [
    "print(hm)"
   ]
  },
  {
   "cell_type": "code",
   "execution_count": 59,
   "id": "112f4050",
   "metadata": {},
   "outputs": [
    {
     "name": "stdout",
     "output_type": "stream",
     "text": [
      "duplicate\n"
     ]
    }
   ],
   "source": [
    "print(hm.get_item(\"hello\"))"
   ]
  },
  {
   "cell_type": "code",
   "execution_count": 60,
   "id": "2f42b8f2",
   "metadata": {},
   "outputs": [
    {
     "name": "stdout",
     "output_type": "stream",
     "text": [
      "['hello', 'hellooo']\n"
     ]
    }
   ],
   "source": [
    "print(hm.keys())"
   ]
  },
  {
   "cell_type": "code",
   "execution_count": null,
   "id": "ebf427f8",
   "metadata": {},
   "outputs": [],
   "source": []
  }
 ],
 "metadata": {
  "kernelspec": {
   "display_name": "Python 3",
   "language": "python",
   "name": "python3"
  },
  "language_info": {
   "codemirror_mode": {
    "name": "ipython",
    "version": 3
   },
   "file_extension": ".py",
   "mimetype": "text/x-python",
   "name": "python",
   "nbconvert_exporter": "python",
   "pygments_lexer": "ipython3",
   "version": "3.8.9"
  }
 },
 "nbformat": 4,
 "nbformat_minor": 5
}
