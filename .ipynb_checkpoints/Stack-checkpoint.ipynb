{
 "cells": [
  {
   "cell_type": "code",
   "execution_count": 11,
   "id": "80f60388",
   "metadata": {},
   "outputs": [],
   "source": [
    "class Node:\n",
    "    def __init__(self, value):\n",
    "        self.value = value\n",
    "        self.next = None\n",
    "        \n",
    "class Stack:\n",
    "    \n",
    "    def __init__(self, value):\n",
    "        new_node = Node(value)\n",
    "        self.top = new_node\n",
    "        self.height = 1\n",
    "    \n",
    "    def push(self, value):\n",
    "        new_node = Node(value)\n",
    "        if self.height == 0:\n",
    "            self.top = new_node\n",
    "        else:\n",
    "            new_node.next = self.top\n",
    "            self.top = new_node\n",
    "        self.height += 1\n",
    "        return True\n",
    "    \n",
    "    def pop(self):\n",
    "        if self.height == 0:\n",
    "            return None\n",
    "        temp = self.top\n",
    "        self.top = temp.next\n",
    "        temp.next = None\n",
    "        self.height -= 1\n",
    "        return temp\n",
    "    \n",
    "    def peek(self):\n",
    "        return self.top\n",
    "    \n",
    "    def __str__(self):\n",
    "        temp = self.top\n",
    "        stack_string = \"\"\n",
    "        while temp:\n",
    "            if not stack_string:\n",
    "                stack_string+=str(temp.value)+\"<-Top\\n--\\n\"\n",
    "            else:\n",
    "                stack_string+=str(temp.value)+\"\\n--\\n\"\n",
    "            temp = temp.next\n",
    "        if stack_string:\n",
    "            return stack_string\n",
    "        return \"None<-Top\"\n",
    "\n",
    "            "
   ]
  },
  {
   "cell_type": "code",
   "execution_count": null,
   "id": "804edde9",
   "metadata": {},
   "outputs": [],
   "source": []
  },
  {
   "cell_type": "code",
   "execution_count": 8,
   "id": "f66e0177",
   "metadata": {},
   "outputs": [
    {
     "name": "stdout",
     "output_type": "stream",
     "text": [
      "5<-Top\n",
      "--\n",
      "\n"
     ]
    }
   ],
   "source": [
    "s = Stack(5)\n",
    "print(s)"
   ]
  },
  {
   "cell_type": "code",
   "execution_count": 9,
   "id": "35212407",
   "metadata": {},
   "outputs": [
    {
     "name": "stdout",
     "output_type": "stream",
     "text": [
      "5\n",
      "5<-Top\n",
      "--\n",
      "10\n",
      "--\n",
      "2\n",
      "--\n",
      "5\n",
      "--\n",
      "\n",
      "10<-Top\n",
      "--\n",
      "2\n",
      "--\n",
      "5\n",
      "--\n",
      "\n"
     ]
    }
   ],
   "source": [
    "s.push(2)\n",
    "s.push(10)\n",
    "s.push(5)\n",
    "print(s.peek().value)\n",
    "print(s)\n",
    "s.pop()\n",
    "print(s)"
   ]
  },
  {
   "cell_type": "code",
   "execution_count": 10,
   "id": "1f6414c8",
   "metadata": {},
   "outputs": [
    {
     "name": "stdout",
     "output_type": "stream",
     "text": [
      "None<-Top\n"
     ]
    }
   ],
   "source": [
    "s.pop()\n",
    "s.pop()\n",
    "s.pop()\n",
    "print(s)"
   ]
  },
  {
   "cell_type": "code",
   "execution_count": null,
   "id": "70e26ed6",
   "metadata": {},
   "outputs": [],
   "source": []
  }
 ],
 "metadata": {
  "kernelspec": {
   "display_name": "Python 3",
   "language": "python",
   "name": "python3"
  },
  "language_info": {
   "codemirror_mode": {
    "name": "ipython",
    "version": 3
   },
   "file_extension": ".py",
   "mimetype": "text/x-python",
   "name": "python",
   "nbconvert_exporter": "python",
   "pygments_lexer": "ipython3",
   "version": "3.8.2"
  }
 },
 "nbformat": 4,
 "nbformat_minor": 5
}
