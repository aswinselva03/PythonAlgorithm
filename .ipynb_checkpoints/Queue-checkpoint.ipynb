{
 "cells": [
  {
   "cell_type": "code",
   "execution_count": 15,
   "id": "131443d4",
   "metadata": {},
   "outputs": [],
   "source": [
    "class Node:\n",
    "    def __init__(self, value):\n",
    "        self.value = value\n",
    "        self.next = None\n",
    "\n",
    "class Queue:\n",
    "    def __init__(self,value):\n",
    "        new_node = Node(value)\n",
    "        self.first = new_node\n",
    "        self.last = new_node\n",
    "        self.length = 1\n",
    "    \n",
    "    def enqueue(self, value):\n",
    "        new_node = Node(value)\n",
    "        if self.length == 0:\n",
    "            self.first = new_node\n",
    "            self.last = new_node\n",
    "        else:\n",
    "            self.last.next = new_node\n",
    "            self.last = new_node\n",
    "            \n",
    "        self.length+=1\n",
    "        return True\n",
    "    \n",
    "    def dequeue(self):\n",
    "        if self.length == 0:\n",
    "            return None\n",
    "        temp = self.first\n",
    "        if self.length == 1:\n",
    "            self.first = None\n",
    "            self.last = None\n",
    "        else:\n",
    "            self.first = temp.next\n",
    "            temp.next = None\n",
    "            \n",
    "        self.length -= 1\n",
    "        return temp\n",
    "    \n",
    "    def peek(self):\n",
    "        return self.first\n",
    "    \n",
    "    def __str__(self):\n",
    "        queue_string = \"\"\n",
    "        temp = self.first\n",
    "        if temp is None:\n",
    "            return \"None\"\n",
    "        for _ in range(0, self.length+1):\n",
    "            queue_string += str(temp.value)\n",
    "            queue_string += \"|\"\n",
    "            if temp.next is None:\n",
    "                queue_string += \"None\"\n",
    "                return queue_string\n",
    "            temp = temp.next\n",
    "        return queue_string\n",
    "    \n",
    "    \n",
    "            \n",
    "            "
   ]
  },
  {
   "cell_type": "code",
   "execution_count": 16,
   "id": "0cac9e01",
   "metadata": {},
   "outputs": [
    {
     "name": "stdout",
     "output_type": "stream",
     "text": [
      "5|None\n",
      "5|10|20|None\n",
      "10|20|None\n",
      "10\n"
     ]
    }
   ],
   "source": [
    "q = Queue(5)\n",
    "print(q)\n",
    "q.enqueue(10)\n",
    "q.enqueue(20)\n",
    "print(q)\n",
    "q.dequeue()\n",
    "print(q)\n",
    "print(q.peek().value)"
   ]
  },
  {
   "cell_type": "code",
   "execution_count": null,
   "id": "45e3ff35",
   "metadata": {},
   "outputs": [],
   "source": []
  },
  {
   "cell_type": "code",
   "execution_count": null,
   "id": "8fd97d4c",
   "metadata": {},
   "outputs": [],
   "source": []
  }
 ],
 "metadata": {
  "kernelspec": {
   "display_name": "Python 3",
   "language": "python",
   "name": "python3"
  },
  "language_info": {
   "codemirror_mode": {
    "name": "ipython",
    "version": 3
   },
   "file_extension": ".py",
   "mimetype": "text/x-python",
   "name": "python",
   "nbconvert_exporter": "python",
   "pygments_lexer": "ipython3",
   "version": "3.8.2"
  }
 },
 "nbformat": 4,
 "nbformat_minor": 5
}
