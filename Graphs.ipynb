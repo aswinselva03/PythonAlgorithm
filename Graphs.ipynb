{
 "cells": [
  {
   "cell_type": "code",
   "execution_count": 2,
   "id": "d136b981",
   "metadata": {},
   "outputs": [],
   "source": [
    "class Graph:\n",
    "    \n",
    "    def __init__(self):\n",
    "        self.adj_list = {}\n",
    "    \n",
    "    \n",
    "    def add_vertex(self, vertex):\n",
    "        if vertex not in self.adj_list.keys():\n",
    "            self.adj_list[vertex] = []\n",
    "            return True\n",
    "        return False\n",
    "    \n",
    "    def add_edge(self, v1, v2):\n",
    "        if v1 in self.adj_list.keys() and v2 in self.adj_list.keys():\n",
    "            self.adj_list[v1].append(v2)\n",
    "            self.adj_list[v2].append(v1)\n",
    "            return True\n",
    "        return False\n",
    "    \n",
    "    def remove_edge(self, v1, v2):\n",
    "        if v1 in self.adj_list.keys() and v2 in self.adj_list.keys():\n",
    "            if v2 in self.adj_list[v1]:\n",
    "                self.adj_list[v1].remove(v2)\n",
    "            else:\n",
    "                return False\n",
    "            if v1 in self.adj_list[v2]:\n",
    "                self.adj_list[v2].remove(v1)\n",
    "            else:\n",
    "                return False\n",
    "            return True\n",
    "        return False\n",
    "    \n",
    "    \n",
    "    def remove_vertex(self, vertex):\n",
    "        if vertex in self.adj_list.keys():\n",
    "            for other_vertex in self.adj_list[vertex]:\n",
    "                self.adj_list[other_vertex].remove(vertex)\n",
    "            del self.adj_list[vertex]\n",
    "            return True\n",
    "        return False\n",
    "    \n",
    "    def __str__(self):\n",
    "        return str(self.adj_list)\n",
    "    "
   ]
  },
  {
   "cell_type": "code",
   "execution_count": 3,
   "id": "b00e4563",
   "metadata": {},
   "outputs": [],
   "source": [
    "gh = Graph()"
   ]
  },
  {
   "cell_type": "code",
   "execution_count": 5,
   "id": "9016f291",
   "metadata": {},
   "outputs": [
    {
     "name": "stdout",
     "output_type": "stream",
     "text": [
      "{}\n"
     ]
    }
   ],
   "source": [
    "print(gh)"
   ]
  },
  {
   "cell_type": "code",
   "execution_count": 6,
   "id": "887b35ae",
   "metadata": {},
   "outputs": [
    {
     "data": {
      "text/plain": [
       "True"
      ]
     },
     "execution_count": 6,
     "metadata": {},
     "output_type": "execute_result"
    }
   ],
   "source": [
    "gh.add_vertex(\"A\")\n",
    "gh.add_vertex(\"B\")\n",
    "gh.add_vertex(\"C\")\n",
    "gh.add_vertex(\"D\")"
   ]
  },
  {
   "cell_type": "code",
   "execution_count": 7,
   "id": "8f74f6eb",
   "metadata": {},
   "outputs": [
    {
     "name": "stdout",
     "output_type": "stream",
     "text": [
      "{'A': [], 'B': [], 'C': [], 'D': []}\n"
     ]
    }
   ],
   "source": [
    "print(gh)"
   ]
  },
  {
   "cell_type": "code",
   "execution_count": 9,
   "id": "0460fb7c",
   "metadata": {},
   "outputs": [
    {
     "data": {
      "text/plain": [
       "True"
      ]
     },
     "execution_count": 9,
     "metadata": {},
     "output_type": "execute_result"
    }
   ],
   "source": [
    "gh.add_edge(\"A\",\"B\")\n",
    "gh.add_edge(\"B\",\"C\")\n",
    "gh.add_edge(\"C\",\"D\")\n",
    "gh.add_edge(\"D\",\"A\")"
   ]
  },
  {
   "cell_type": "code",
   "execution_count": 10,
   "id": "c54dc9c9",
   "metadata": {},
   "outputs": [
    {
     "name": "stdout",
     "output_type": "stream",
     "text": [
      "{'A': ['B', 'D'], 'B': ['A', 'C'], 'C': ['B', 'D'], 'D': ['C', 'A']}\n"
     ]
    }
   ],
   "source": [
    "print(gh)"
   ]
  },
  {
   "cell_type": "code",
   "execution_count": 11,
   "id": "68e38642",
   "metadata": {},
   "outputs": [
    {
     "data": {
      "text/plain": [
       "True"
      ]
     },
     "execution_count": 11,
     "metadata": {},
     "output_type": "execute_result"
    }
   ],
   "source": [
    "gh.remove_edge(\"D\",\"A\")"
   ]
  },
  {
   "cell_type": "code",
   "execution_count": 12,
   "id": "32cba3b8",
   "metadata": {},
   "outputs": [
    {
     "name": "stdout",
     "output_type": "stream",
     "text": [
      "{'A': ['B'], 'B': ['A', 'C'], 'C': ['B', 'D'], 'D': ['C']}\n"
     ]
    }
   ],
   "source": [
    "print(gh)"
   ]
  },
  {
   "cell_type": "code",
   "execution_count": 13,
   "id": "b02358f2",
   "metadata": {},
   "outputs": [
    {
     "data": {
      "text/plain": [
       "True"
      ]
     },
     "execution_count": 13,
     "metadata": {},
     "output_type": "execute_result"
    }
   ],
   "source": [
    "gh.add_edge(\"A\", \"D\")"
   ]
  },
  {
   "cell_type": "code",
   "execution_count": 14,
   "id": "bdccd79a",
   "metadata": {},
   "outputs": [
    {
     "name": "stdout",
     "output_type": "stream",
     "text": [
      "{'A': ['B', 'D'], 'B': ['A', 'C'], 'C': ['B', 'D'], 'D': ['C', 'A']}\n"
     ]
    }
   ],
   "source": [
    "print(gh)"
   ]
  },
  {
   "cell_type": "code",
   "execution_count": 15,
   "id": "f4e72a22",
   "metadata": {},
   "outputs": [
    {
     "data": {
      "text/plain": [
       "True"
      ]
     },
     "execution_count": 15,
     "metadata": {},
     "output_type": "execute_result"
    }
   ],
   "source": [
    "gh.remove_vertex('D')"
   ]
  },
  {
   "cell_type": "code",
   "execution_count": 16,
   "id": "542f2805",
   "metadata": {},
   "outputs": [
    {
     "name": "stdout",
     "output_type": "stream",
     "text": [
      "{'A': ['B'], 'B': ['A', 'C'], 'C': ['B']}\n"
     ]
    }
   ],
   "source": [
    "print(gh)"
   ]
  },
  {
   "cell_type": "code",
   "execution_count": null,
   "id": "90a60856",
   "metadata": {},
   "outputs": [],
   "source": []
  }
 ],
 "metadata": {
  "kernelspec": {
   "display_name": "Python 3",
   "language": "python",
   "name": "python3"
  },
  "language_info": {
   "codemirror_mode": {
    "name": "ipython",
    "version": 3
   },
   "file_extension": ".py",
   "mimetype": "text/x-python",
   "name": "python",
   "nbconvert_exporter": "python",
   "pygments_lexer": "ipython3",
   "version": "3.8.9"
  }
 },
 "nbformat": 4,
 "nbformat_minor": 5
}
