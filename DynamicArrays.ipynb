{
 "cells": [
  {
   "cell_type": "code",
   "execution_count": 118,
   "id": "f86a5cd4",
   "metadata": {},
   "outputs": [],
   "source": [
    "import ctypes\n",
    "\n",
    "class DynamicArray():\n",
    "    \n",
    "    def __init__(self):\n",
    "        # Initialize the dynamic array with initial size, capacity, and empty array\n",
    "        self.size = 0\n",
    "        self.capacity = 1\n",
    "        self.Array = self.__make_array(self.capacity)\n",
    "    \n",
    "    def __make_array(self, new_capacity):\n",
    "        # Create a new array with the specified capacity\n",
    "        return (new_capacity * ctypes.py_object)()\n",
    "    \n",
    "    def __resize(self, new_capacity):\n",
    "        # Resize the array to the new capacity\n",
    "        self.new_array = self.__make_array(new_capacity)\n",
    "        for index in range(self.size):\n",
    "            # Copy existing elements to the new array\n",
    "            self.new_array[index] = self.Array[index]\n",
    "        self.Array = self.new_array\n",
    "        self.capacity = new_capacity\n",
    "        \n",
    "    def __getitem__(self, index):\n",
    "        # Overload the indexing operator to retrieve an element from the array\n",
    "        if type(index) != int:\n",
    "            raise TypeError(\"Index should be an integer\")\n",
    "        if not 0 <= index < self.size:\n",
    "            raise IndexError(\"Index out of Bound\")\n",
    "        return self.Array[index]\n",
    "    \n",
    "    def __len__(self):\n",
    "        # Overload the len() function to return the size of the array\n",
    "        return self.size\n",
    "    \n",
    "    def __str__(self):\n",
    "        # Convert the array to a string representation\n",
    "        array_string = \"\"\n",
    "        for index in range(self.size):\n",
    "            if index == self.size -1:\n",
    "                array_string +=str(self.Array[index])\n",
    "            else:\n",
    "                array_string += str(self.Array[index]) +\",\"\n",
    "        return array_string\n",
    "    \n",
    "    def __setitem__(self, index, value):\n",
    "        # Overload the assignment operator to set an element at the specified index\n",
    "        if type(index) != int:\n",
    "            raise TypeError(\"Index should be an integer\")\n",
    "        if not 0 <= index < self.size:\n",
    "            raise IndexError(\"Index out of Bound\")\n",
    "        self.Array[index] = value\n",
    "    \n",
    "    def append(self,value):\n",
    "        # Add a new element to the end of the array\n",
    "        if self.size == self.capacity:\n",
    "            # If the array is at its capacity, resize the array\n",
    "            self.__resize(2*self.capacity)\n",
    "        self.Array[self.size] = value\n",
    "        self.size += 1\n",
    "    \n",
    "    def pop(self):\n",
    "        if self.size == 0:\n",
    "            raise IndexError(\"Cannot pop from an empty array\")\n",
    "        \n",
    "        last_element = self.Array[self.size - 1]\n",
    "        self.Array[self.size - 1] = None  # Remove the element by setting it to None\n",
    "        self.size -= 1\n",
    "        \n",
    "        # Check if resizing is necessary\n",
    "        if self.size < self.capacity // 2:\n",
    "            new_capacity = max(1, self.capacity // 2)\n",
    "            self.__resize(new_capacity)\n",
    "        \n",
    "        return last_element\n",
    "    \n",
    "    def insert(self, index, value):\n",
    "        if index < 0 or index > self.size:\n",
    "            raise IndexError(\"Index out of bounds\")\n",
    "\n",
    "        if self.size == self.capacity:\n",
    "            self.__resize(2 * self.capacity)\n",
    "\n",
    "        # Shift elements to the right to make room for the new element\n",
    "        for i in range(self.size, index, -1):\n",
    "            self.Array[i] = self.Array[i - 1]\n",
    "\n",
    "        self.Array[index] = value\n",
    "        self.size += 1\n",
    "\n",
    "    def remove(self, index):\n",
    "        if index < 0 or index >= self.size:\n",
    "            raise IndexError(\"Index out of bounds\")\n",
    "\n",
    "        removed_element = self.Array[index]\n",
    "\n",
    "        # Shift elements to the left to fill the gap created by the removed element\n",
    "        for i in range(index, self.size - 1):\n",
    "            self.Array[i] = self.Array[i + 1]\n",
    "\n",
    "        self.Array[self.size - 1] = None\n",
    "        self.size -= 1\n",
    "\n",
    "        # Check if resizing is necessary\n",
    "        if self.size < self.capacity // 2:\n",
    "            new_capacity = max(1, self.capacity // 2)\n",
    "            self.__resize(new_capacity)\n",
    "\n",
    "        return removed_element\n",
    "        \n",
    "    \n",
    "\n",
    "        \n",
    "        \n",
    "    \n",
    "        "
   ]
  },
  {
   "cell_type": "code",
   "execution_count": null,
   "id": "5302350d",
   "metadata": {},
   "outputs": [],
   "source": []
  },
  {
   "cell_type": "code",
   "execution_count": 119,
   "id": "180a122b",
   "metadata": {},
   "outputs": [],
   "source": [
    "da = DynamicArray()"
   ]
  },
  {
   "cell_type": "code",
   "execution_count": 120,
   "id": "82751a47",
   "metadata": {},
   "outputs": [],
   "source": [
    "da.append(1)\n",
    "da.append(3)"
   ]
  },
  {
   "cell_type": "code",
   "execution_count": 121,
   "id": "c6fd5608",
   "metadata": {},
   "outputs": [
    {
     "name": "stdout",
     "output_type": "stream",
     "text": [
      "1,3\n"
     ]
    }
   ],
   "source": [
    "print(da)"
   ]
  },
  {
   "cell_type": "code",
   "execution_count": 122,
   "id": "2143148d",
   "metadata": {},
   "outputs": [
    {
     "data": {
      "text/plain": [
       "3"
      ]
     },
     "execution_count": 122,
     "metadata": {},
     "output_type": "execute_result"
    }
   ],
   "source": [
    "da[1]"
   ]
  },
  {
   "cell_type": "code",
   "execution_count": 123,
   "id": "859f57b0",
   "metadata": {},
   "outputs": [
    {
     "data": {
      "text/plain": [
       "2"
      ]
     },
     "execution_count": 123,
     "metadata": {},
     "output_type": "execute_result"
    }
   ],
   "source": [
    "len(da)"
   ]
  },
  {
   "cell_type": "code",
   "execution_count": 113,
   "id": "181d294f",
   "metadata": {},
   "outputs": [],
   "source": [
    "da[1] = 5"
   ]
  },
  {
   "cell_type": "code",
   "execution_count": 114,
   "id": "a90a7be7",
   "metadata": {},
   "outputs": [
    {
     "data": {
      "text/plain": [
       "5"
      ]
     },
     "execution_count": 114,
     "metadata": {},
     "output_type": "execute_result"
    }
   ],
   "source": [
    "da[1]"
   ]
  },
  {
   "cell_type": "code",
   "execution_count": 115,
   "id": "db844f3a",
   "metadata": {},
   "outputs": [
    {
     "name": "stdout",
     "output_type": "stream",
     "text": [
      "1,5\n"
     ]
    }
   ],
   "source": [
    "print(da)"
   ]
  },
  {
   "cell_type": "code",
   "execution_count": 124,
   "id": "f3e24fa4",
   "metadata": {},
   "outputs": [
    {
     "data": {
      "text/plain": [
       "2"
      ]
     },
     "execution_count": 124,
     "metadata": {},
     "output_type": "execute_result"
    }
   ],
   "source": [
    "da.capacity"
   ]
  },
  {
   "cell_type": "code",
   "execution_count": 125,
   "id": "3d96cf19",
   "metadata": {},
   "outputs": [],
   "source": [
    "da.append(2)\n",
    "da.append(4)\n",
    "da.append(6)"
   ]
  },
  {
   "cell_type": "code",
   "execution_count": 126,
   "id": "00894e68",
   "metadata": {},
   "outputs": [
    {
     "name": "stdout",
     "output_type": "stream",
     "text": [
      "1,3,2,4,6\n"
     ]
    }
   ],
   "source": [
    "print(da)"
   ]
  },
  {
   "cell_type": "code",
   "execution_count": 127,
   "id": "cd07c123",
   "metadata": {},
   "outputs": [
    {
     "data": {
      "text/plain": [
       "8"
      ]
     },
     "execution_count": 127,
     "metadata": {},
     "output_type": "execute_result"
    }
   ],
   "source": [
    "da.capacity"
   ]
  },
  {
   "cell_type": "code",
   "execution_count": 128,
   "id": "521a704d",
   "metadata": {},
   "outputs": [
    {
     "data": {
      "text/plain": [
       "6"
      ]
     },
     "execution_count": 128,
     "metadata": {},
     "output_type": "execute_result"
    }
   ],
   "source": [
    "da.pop()"
   ]
  },
  {
   "cell_type": "code",
   "execution_count": 129,
   "id": "2015ca28",
   "metadata": {},
   "outputs": [
    {
     "data": {
      "text/plain": [
       "8"
      ]
     },
     "execution_count": 129,
     "metadata": {},
     "output_type": "execute_result"
    }
   ],
   "source": [
    "da.capacity"
   ]
  },
  {
   "cell_type": "code",
   "execution_count": 130,
   "id": "1d88359e",
   "metadata": {},
   "outputs": [
    {
     "data": {
      "text/plain": [
       "4"
      ]
     },
     "execution_count": 130,
     "metadata": {},
     "output_type": "execute_result"
    }
   ],
   "source": [
    "da.pop()"
   ]
  },
  {
   "cell_type": "code",
   "execution_count": 131,
   "id": "670f3f64",
   "metadata": {},
   "outputs": [
    {
     "data": {
      "text/plain": [
       "4"
      ]
     },
     "execution_count": 131,
     "metadata": {},
     "output_type": "execute_result"
    }
   ],
   "source": [
    "da.capacity"
   ]
  },
  {
   "cell_type": "code",
   "execution_count": 132,
   "id": "b0d32048",
   "metadata": {},
   "outputs": [
    {
     "name": "stdout",
     "output_type": "stream",
     "text": [
      "1,3,2\n"
     ]
    }
   ],
   "source": [
    "print(da)"
   ]
  },
  {
   "cell_type": "markdown",
   "id": "ebe85e7a",
   "metadata": {},
   "source": [
    "## Dynamic Array Operations:\n",
    "\n",
    "The operations commonly associated with a dynamic array include:\n",
    "\n",
    "**Initialization**: Initialize a dynamic array with an initial capacity.  \n",
    "**Insertion**: Insert an element at a specified index.  \n",
    "**Appending**: Add an element to the end of the array.  \n",
    "**Access**: Retrieve an element at a specified index.  \n",
    "**Updating**: Update the value of an element at a specified index.  \n",
    "**Deletion**: Remove an element at a specified index.  \n",
    "**Pop**: Remove the last element from the array.  \n",
    "**Remove**: Remove the element with a specific value.  \n",
    "**Size retrieval**: Get the current number of elements in the array.  \n",
    "**Capacity retrieval**: Get the current capacity of the array.  \n",
    "**Resizing**: Increase or decrease the capacity of the array to accommodate more or fewer elements.  \n",
    "These operations allow for dynamic resizing, efficient element access, and manipulation of the array's contents.  "
   ]
  },
  {
   "cell_type": "code",
   "execution_count": null,
   "id": "5dce2905",
   "metadata": {},
   "outputs": [],
   "source": []
  },
  {
   "cell_type": "code",
   "execution_count": null,
   "id": "357e20a2",
   "metadata": {},
   "outputs": [],
   "source": []
  }
 ],
 "metadata": {
  "kernelspec": {
   "display_name": "Python 3",
   "language": "python",
   "name": "python3"
  },
  "language_info": {
   "codemirror_mode": {
    "name": "ipython",
    "version": 3
   },
   "file_extension": ".py",
   "mimetype": "text/x-python",
   "name": "python",
   "nbconvert_exporter": "python",
   "pygments_lexer": "ipython3",
   "version": "3.8.9"
  }
 },
 "nbformat": 4,
 "nbformat_minor": 5
}
